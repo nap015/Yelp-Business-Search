{
 "cells": [
  {
   "cell_type": "code",
   "execution_count": 1,
   "metadata": {},
   "outputs": [],
   "source": [
    "from py2neo import Graph\n",
    "\n",
    "import json\n",
    "import numpy as np\n",
    "import pandas as pd"
   ]
  },
  {
   "cell_type": "markdown",
   "metadata": {},
   "source": [
    "## Connect the jupyter notebook to the local Neo4j database"
   ]
  },
  {
   "cell_type": "code",
   "execution_count": 181,
   "metadata": {},
   "outputs": [],
   "source": [
    "# Connect the neo4j to local database\n",
    "graph = Graph(\"bolt://localhost:7687\", auth=(\"neo4j\", \"00\"))"
   ]
  },
  {
   "cell_type": "markdown",
   "metadata": {},
   "source": [
    "## Prepare the data for the Neo4j database"
   ]
  },
  {
   "cell_type": "code",
   "execution_count": 78,
   "metadata": {},
   "outputs": [],
   "source": [
    "df = pd.read_json('~/desktop/dsc104/assignments/final_project/data/test.json')"
   ]
  },
  {
   "cell_type": "code",
   "execution_count": 79,
   "metadata": {},
   "outputs": [
    {
     "data": {
      "text/html": [
       "<div>\n",
       "<style scoped>\n",
       "    .dataframe tbody tr th:only-of-type {\n",
       "        vertical-align: middle;\n",
       "    }\n",
       "\n",
       "    .dataframe tbody tr th {\n",
       "        vertical-align: top;\n",
       "    }\n",
       "\n",
       "    .dataframe thead th {\n",
       "        text-align: right;\n",
       "    }\n",
       "</style>\n",
       "<table border=\"1\" class=\"dataframe\">\n",
       "  <thead>\n",
       "    <tr style=\"text-align: right;\">\n",
       "      <th></th>\n",
       "      <th>name</th>\n",
       "      <th>state</th>\n",
       "      <th>categories</th>\n",
       "      <th>hours</th>\n",
       "      <th>city</th>\n",
       "      <th>stars</th>\n",
       "      <th>address</th>\n",
       "      <th>review_count</th>\n",
       "    </tr>\n",
       "  </thead>\n",
       "  <tbody>\n",
       "    <tr>\n",
       "      <th>0</th>\n",
       "      <td>Rubio's</td>\n",
       "      <td>AZ</td>\n",
       "      <td>Restaurants, Seafood, Event Planning &amp; Service...</td>\n",
       "      <td>{'Friday': '10:30-21:30', 'Monday': '10:30-21:...</td>\n",
       "      <td>Phoenix</td>\n",
       "      <td>3.5</td>\n",
       "      <td>4747 E Bell Rd, Ste 17</td>\n",
       "      <td>100</td>\n",
       "    </tr>\n",
       "    <tr>\n",
       "      <th>1</th>\n",
       "      <td>Wrights at The Arizona Biltmore</td>\n",
       "      <td>AZ</td>\n",
       "      <td>Restaurants, American (New), Breakfast &amp; Brunch</td>\n",
       "      <td>{'Friday': '17:30-21:30', 'Monday': '17:30-21:...</td>\n",
       "      <td>Phoenix</td>\n",
       "      <td>4.0</td>\n",
       "      <td>2400 E Missouri Ave</td>\n",
       "      <td>139</td>\n",
       "    </tr>\n",
       "    <tr>\n",
       "      <th>2</th>\n",
       "      <td>Famous Ray's Pizza</td>\n",
       "      <td>AZ</td>\n",
       "      <td>Pizza, Restaurants</td>\n",
       "      <td>{'Friday': '10:0-22:30', 'Monday': '10:0-21:30...</td>\n",
       "      <td>Phoenix</td>\n",
       "      <td>3.0</td>\n",
       "      <td>2501 W Happy Valley Rd</td>\n",
       "      <td>94</td>\n",
       "    </tr>\n",
       "    <tr>\n",
       "      <th>3</th>\n",
       "      <td>Cafe Rio</td>\n",
       "      <td>AZ</td>\n",
       "      <td>Food, Mexican, Restaurants</td>\n",
       "      <td>{'Friday': '10:30-23:0', 'Monday': '10:30-22:0...</td>\n",
       "      <td>Phoenix</td>\n",
       "      <td>3.0</td>\n",
       "      <td>12005 N Tatum Blvd</td>\n",
       "      <td>89</td>\n",
       "    </tr>\n",
       "    <tr>\n",
       "      <th>4</th>\n",
       "      <td>Crazy Jim's</td>\n",
       "      <td>AZ</td>\n",
       "      <td>Mediterranean, Pizza, Greek, Breakfast &amp; Brunc...</td>\n",
       "      <td>{'Friday': '6:30-14:30', 'Monday': '0:0-0:0', ...</td>\n",
       "      <td>Phoenix</td>\n",
       "      <td>3.5</td>\n",
       "      <td>305 W Washington St, Ste 104</td>\n",
       "      <td>97</td>\n",
       "    </tr>\n",
       "  </tbody>\n",
       "</table>\n",
       "</div>"
      ],
      "text/plain": [
       "                              name state  \\\n",
       "0                          Rubio's    AZ   \n",
       "1  Wrights at The Arizona Biltmore    AZ   \n",
       "2               Famous Ray's Pizza    AZ   \n",
       "3                         Cafe Rio    AZ   \n",
       "4                      Crazy Jim's    AZ   \n",
       "\n",
       "                                          categories  \\\n",
       "0  Restaurants, Seafood, Event Planning & Service...   \n",
       "1    Restaurants, American (New), Breakfast & Brunch   \n",
       "2                                 Pizza, Restaurants   \n",
       "3                         Food, Mexican, Restaurants   \n",
       "4  Mediterranean, Pizza, Greek, Breakfast & Brunc...   \n",
       "\n",
       "                                               hours     city  stars  \\\n",
       "0  {'Friday': '10:30-21:30', 'Monday': '10:30-21:...  Phoenix    3.5   \n",
       "1  {'Friday': '17:30-21:30', 'Monday': '17:30-21:...  Phoenix    4.0   \n",
       "2  {'Friday': '10:0-22:30', 'Monday': '10:0-21:30...  Phoenix    3.0   \n",
       "3  {'Friday': '10:30-23:0', 'Monday': '10:30-22:0...  Phoenix    3.0   \n",
       "4  {'Friday': '6:30-14:30', 'Monday': '0:0-0:0', ...  Phoenix    3.5   \n",
       "\n",
       "                        address  review_count  \n",
       "0        4747 E Bell Rd, Ste 17           100  \n",
       "1           2400 E Missouri Ave           139  \n",
       "2        2501 W Happy Valley Rd            94  \n",
       "3            12005 N Tatum Blvd            89  \n",
       "4  305 W Washington St, Ste 104            97  "
      ]
     },
     "execution_count": 79,
     "metadata": {},
     "output_type": "execute_result"
    }
   ],
   "source": [
    "df.head()"
   ]
  },
  {
   "cell_type": "code",
   "execution_count": 81,
   "metadata": {},
   "outputs": [
    {
     "data": {
      "text/html": [
       "<div>\n",
       "<style scoped>\n",
       "    .dataframe tbody tr th:only-of-type {\n",
       "        vertical-align: middle;\n",
       "    }\n",
       "\n",
       "    .dataframe tbody tr th {\n",
       "        vertical-align: top;\n",
       "    }\n",
       "\n",
       "    .dataframe thead th {\n",
       "        text-align: right;\n",
       "    }\n",
       "</style>\n",
       "<table border=\"1\" class=\"dataframe\">\n",
       "  <thead>\n",
       "    <tr style=\"text-align: right;\">\n",
       "      <th></th>\n",
       "      <th>id</th>\n",
       "      <th>name</th>\n",
       "      <th>city</th>\n",
       "      <th>state</th>\n",
       "      <th>stars</th>\n",
       "      <th>review_count</th>\n",
       "      <th>categories</th>\n",
       "    </tr>\n",
       "  </thead>\n",
       "  <tbody>\n",
       "    <tr>\n",
       "      <th>0</th>\n",
       "      <td>0</td>\n",
       "      <td>Rubio's</td>\n",
       "      <td>Phoenix</td>\n",
       "      <td>AZ</td>\n",
       "      <td>3.5</td>\n",
       "      <td>100</td>\n",
       "      <td>Restaurants, Seafood, Event Planning &amp; Service...</td>\n",
       "    </tr>\n",
       "    <tr>\n",
       "      <th>1</th>\n",
       "      <td>1</td>\n",
       "      <td>Wrights at The Arizona Biltmore</td>\n",
       "      <td>Phoenix</td>\n",
       "      <td>AZ</td>\n",
       "      <td>4.0</td>\n",
       "      <td>139</td>\n",
       "      <td>Restaurants, American (New), Breakfast &amp; Brunch</td>\n",
       "    </tr>\n",
       "    <tr>\n",
       "      <th>2</th>\n",
       "      <td>2</td>\n",
       "      <td>Famous Ray's Pizza</td>\n",
       "      <td>Phoenix</td>\n",
       "      <td>AZ</td>\n",
       "      <td>3.0</td>\n",
       "      <td>94</td>\n",
       "      <td>Pizza, Restaurants</td>\n",
       "    </tr>\n",
       "    <tr>\n",
       "      <th>3</th>\n",
       "      <td>3</td>\n",
       "      <td>Cafe Rio</td>\n",
       "      <td>Phoenix</td>\n",
       "      <td>AZ</td>\n",
       "      <td>3.0</td>\n",
       "      <td>89</td>\n",
       "      <td>Food, Mexican, Restaurants</td>\n",
       "    </tr>\n",
       "    <tr>\n",
       "      <th>4</th>\n",
       "      <td>4</td>\n",
       "      <td>Crazy Jim's</td>\n",
       "      <td>Phoenix</td>\n",
       "      <td>AZ</td>\n",
       "      <td>3.5</td>\n",
       "      <td>97</td>\n",
       "      <td>Mediterranean, Pizza, Greek, Breakfast &amp; Brunc...</td>\n",
       "    </tr>\n",
       "  </tbody>\n",
       "</table>\n",
       "</div>"
      ],
      "text/plain": [
       "   id                             name     city state  stars  review_count  \\\n",
       "0   0                          Rubio's  Phoenix    AZ    3.5           100   \n",
       "1   1  Wrights at The Arizona Biltmore  Phoenix    AZ    4.0           139   \n",
       "2   2               Famous Ray's Pizza  Phoenix    AZ    3.0            94   \n",
       "3   3                         Cafe Rio  Phoenix    AZ    3.0            89   \n",
       "4   4                      Crazy Jim's  Phoenix    AZ    3.5            97   \n",
       "\n",
       "                                          categories  \n",
       "0  Restaurants, Seafood, Event Planning & Service...  \n",
       "1    Restaurants, American (New), Breakfast & Brunch  \n",
       "2                                 Pizza, Restaurants  \n",
       "3                         Food, Mexican, Restaurants  \n",
       "4  Mediterranean, Pizza, Greek, Breakfast & Brunc...  "
      ]
     },
     "execution_count": 81,
     "metadata": {},
     "output_type": "execute_result"
    }
   ],
   "source": [
    "data = df[['name', 'city', 'state', 'stars', 'review_count', 'categories']]\n",
    "data = data.dropna()\n",
    "data = data.reset_index()\n",
    "data.columns = ['id','name', 'city', 'state', 'stars', 'review_count', 'categories']\n",
    "data.head()"
   ]
  },
  {
   "cell_type": "code",
   "execution_count": 83,
   "metadata": {},
   "outputs": [],
   "source": [
    "# Export businesses data\n",
    "business_data = data[['id', 'name', 'city', 'state', 'stars', 'review_count']]\n",
    "business_data.to_csv('data/business.csv')"
   ]
  },
  {
   "cell_type": "code",
   "execution_count": 85,
   "metadata": {},
   "outputs": [
    {
     "name": "stderr",
     "output_type": "stream",
     "text": [
      "/Applications/anaconda3/lib/python3.7/site-packages/ipykernel_launcher.py:3: SettingWithCopyWarning: \n",
      "A value is trying to be set on a copy of a slice from a DataFrame.\n",
      "Try using .loc[row_indexer,col_indexer] = value instead\n",
      "\n",
      "See the caveats in the documentation: https://pandas.pydata.org/pandas-docs/stable/user_guide/indexing.html#returning-a-view-versus-a-copy\n",
      "  This is separate from the ipykernel package so we can avoid doing imports until\n"
     ]
    }
   ],
   "source": [
    "# Clean and export categories-business relationship data\n",
    "categories = data[['id', 'categories']]\n",
    "categories['categories'] = categories['categories'].apply(lambda x: x.split(\",\"))\n",
    "\n",
    "business_categories = categories.explode('categories')\n",
    "business_categories = business_categories.reset_index(drop = True)\n",
    "\n",
    "cat = pd.DataFrame(business_categories['categories'].drop_duplicates()).reset_index(drop = True).reset_index()"
   ]
  },
  {
   "cell_type": "code",
   "execution_count": 89,
   "metadata": {},
   "outputs": [],
   "source": [
    "business_categories['categories'] = business_categories['categories'].apply(lambda x: x.lstrip())\n",
    "business_categories['categories'] = business_categories['categories'].apply(lambda x: x.rstrip())\n",
    "business_categories.head()\n",
    "business_categories.to_csv('bus_cat.csv')"
   ]
  },
  {
   "cell_type": "code",
   "execution_count": 165,
   "metadata": {},
   "outputs": [
    {
     "data": {
      "text/html": [
       "<div>\n",
       "<style scoped>\n",
       "    .dataframe tbody tr th:only-of-type {\n",
       "        vertical-align: middle;\n",
       "    }\n",
       "\n",
       "    .dataframe tbody tr th {\n",
       "        vertical-align: top;\n",
       "    }\n",
       "\n",
       "    .dataframe thead th {\n",
       "        text-align: right;\n",
       "    }\n",
       "</style>\n",
       "<table border=\"1\" class=\"dataframe\">\n",
       "  <thead>\n",
       "    <tr style=\"text-align: right;\">\n",
       "      <th></th>\n",
       "      <th>id</th>\n",
       "      <th>categories</th>\n",
       "    </tr>\n",
       "  </thead>\n",
       "  <tbody>\n",
       "    <tr>\n",
       "      <th>0</th>\n",
       "      <td>0</td>\n",
       "      <td>Restaurants</td>\n",
       "    </tr>\n",
       "    <tr>\n",
       "      <th>1</th>\n",
       "      <td>0</td>\n",
       "      <td>Seafood</td>\n",
       "    </tr>\n",
       "    <tr>\n",
       "      <th>2</th>\n",
       "      <td>0</td>\n",
       "      <td>Event Planning &amp; Services</td>\n",
       "    </tr>\n",
       "    <tr>\n",
       "      <th>3</th>\n",
       "      <td>0</td>\n",
       "      <td>Mexican</td>\n",
       "    </tr>\n",
       "    <tr>\n",
       "      <th>4</th>\n",
       "      <td>0</td>\n",
       "      <td>Caterers</td>\n",
       "    </tr>\n",
       "  </tbody>\n",
       "</table>\n",
       "</div>"
      ],
      "text/plain": [
       "   id                 categories\n",
       "0   0                Restaurants\n",
       "1   0                    Seafood\n",
       "2   0  Event Planning & Services\n",
       "3   0                    Mexican\n",
       "4   0                   Caterers"
      ]
     },
     "execution_count": 165,
     "metadata": {},
     "output_type": "execute_result"
    }
   ],
   "source": [
    "business_categories.head()"
   ]
  },
  {
   "cell_type": "code",
   "execution_count": 90,
   "metadata": {},
   "outputs": [],
   "source": [
    "# Export categories data\n",
    "cat.columns = ['id', 'name']\n",
    "cat.to_csv('data/categories.csv')"
   ]
  },
  {
   "cell_type": "code",
   "execution_count": 164,
   "metadata": {},
   "outputs": [
    {
     "data": {
      "text/html": [
       "<div>\n",
       "<style scoped>\n",
       "    .dataframe tbody tr th:only-of-type {\n",
       "        vertical-align: middle;\n",
       "    }\n",
       "\n",
       "    .dataframe tbody tr th {\n",
       "        vertical-align: top;\n",
       "    }\n",
       "\n",
       "    .dataframe thead th {\n",
       "        text-align: right;\n",
       "    }\n",
       "</style>\n",
       "<table border=\"1\" class=\"dataframe\">\n",
       "  <thead>\n",
       "    <tr style=\"text-align: right;\">\n",
       "      <th></th>\n",
       "      <th>id</th>\n",
       "      <th>name</th>\n",
       "    </tr>\n",
       "  </thead>\n",
       "  <tbody>\n",
       "    <tr>\n",
       "      <th>0</th>\n",
       "      <td>0</td>\n",
       "      <td>Restaurants</td>\n",
       "    </tr>\n",
       "    <tr>\n",
       "      <th>1</th>\n",
       "      <td>1</td>\n",
       "      <td>Seafood</td>\n",
       "    </tr>\n",
       "    <tr>\n",
       "      <th>2</th>\n",
       "      <td>2</td>\n",
       "      <td>Event Planning &amp; Services</td>\n",
       "    </tr>\n",
       "    <tr>\n",
       "      <th>3</th>\n",
       "      <td>3</td>\n",
       "      <td>Mexican</td>\n",
       "    </tr>\n",
       "    <tr>\n",
       "      <th>4</th>\n",
       "      <td>4</td>\n",
       "      <td>Caterers</td>\n",
       "    </tr>\n",
       "  </tbody>\n",
       "</table>\n",
       "</div>"
      ],
      "text/plain": [
       "   id                        name\n",
       "0   0                 Restaurants\n",
       "1   1                     Seafood\n",
       "2   2   Event Planning & Services\n",
       "3   3                     Mexican\n",
       "4   4                    Caterers"
      ]
     },
     "execution_count": 164,
     "metadata": {},
     "output_type": "execute_result"
    }
   ],
   "source": [
    "cat.head()"
   ]
  },
  {
   "cell_type": "markdown",
   "metadata": {},
   "source": [
    "## Use Cypher to load all data into neo4j database"
   ]
  },
  {
   "cell_type": "code",
   "execution_count": 182,
   "metadata": {},
   "outputs": [],
   "source": [
    "# Move all three exported files to the created neo4j database import folder and follow the next steps\n",
    "# Add the business dataset to neo4j database\n",
    "query = \"\"\"\n",
    "USING PERIODIC COMMIT LOAD CSV WITH HEADERS FROM \"file:///business.csv\" AS row \n",
    "CREATE (:Business {name: row.name, id: row.id, city: row.city, state: row.state, review_count: row.review_count, stars:row.stars})\n",
    "\"\"\"\n",
    "\n",
    "graph.run(query).evaluate()"
   ]
  },
  {
   "cell_type": "code",
   "execution_count": 183,
   "metadata": {
    "scrolled": true
   },
   "outputs": [],
   "source": [
    "# Add the category dataset to neo4j database\n",
    "query = \"\"\"\n",
    "USING PERIODIC COMMIT LOAD CSV WITH HEADERS FROM \"file:///categories.csv\" AS row \n",
    "MERGE (:Category {name: row.name, id: row.id})\n",
    "\"\"\"\n",
    "\n",
    "graph.run(query).evaluate()"
   ]
  },
  {
   "cell_type": "code",
   "execution_count": 184,
   "metadata": {},
   "outputs": [],
   "source": [
    "# Add the business category relationship to neo4j database\n",
    "query = \"\"\"\n",
    "LOAD CSV WITH HEADERS FROM \"file:///bus_cat.csv\" AS row \n",
    "MATCH (bus:Business{id:row.id})\n",
    "MATCH (cat:Category{name:row.categories})\n",
    "CREATE (bus)-[:BelongsToCategory]->(cat)\n",
    "\"\"\"\n",
    "\n",
    "graph.run(query).evaluate()"
   ]
  },
  {
   "cell_type": "markdown",
   "metadata": {},
   "source": [
    "## One Query Example"
   ]
  },
  {
   "cell_type": "code",
   "execution_count": 203,
   "metadata": {},
   "outputs": [],
   "source": [
    "query = \"\"\"\n",
    "MATCH (b:Business {city: $city})-[r:BelongsToCategory]->(c:Category {name: $cat})\n",
    "RETURN b, r, c\n",
    "\"\"\"\n",
    "\n",
    "def return_restaurants_city_cat(city, category):\n",
    "    return graph.run(query, city = city, cat = category)"
   ]
  },
  {
   "cell_type": "code",
   "execution_count": 204,
   "metadata": {},
   "outputs": [
    {
     "data": {
      "text/plain": [
       " b                                                                                                                           | r                                                       | c                                          \n",
       "-----------------------------------------------------------------------------------------------------------------------------|---------------------------------------------------------|--------------------------------------------\n",
       " (_35840:Business {city: 'Phoenix', id: '82', name: \"Domino's Pizza\", review_count: '12', stars: '2.0', state: 'AZ'})        | (Domino's Pizza)-[:BelongsToCategory {}]->(Pizza)       | (_35938:Category {id: '9', name: 'Pizza'}) \n",
       " (_35844:Business {city: 'Phoenix', id: '86', name: \"OG Original Geno's\", review_count: '53', stars: '3.5', state: 'AZ'})    | (OG Original Geno's)-[:BelongsToCategory {}]->(Pizza)   | (_35938:Category {id: '9', name: 'Pizza'}) \n",
       " (_35912:Business {city: 'Phoenix', id: '154', name: 'Little Caesars Pizza', review_count: '13', stars: '2.5', state: 'AZ'}) | (Little Caesars Pizza)-[:BelongsToCategory {}]->(Pizza) | (_35938:Category {id: '9', name: 'Pizza'}) "
      ]
     },
     "execution_count": 204,
     "metadata": {},
     "output_type": "execute_result"
    }
   ],
   "source": [
    "return_restaurants_city_cat('Phoenix', 'Pizza')"
   ]
  },
  {
   "cell_type": "code",
   "execution_count": null,
   "metadata": {},
   "outputs": [],
   "source": []
  }
 ],
 "metadata": {
  "kernelspec": {
   "display_name": "Python 3",
   "language": "python",
   "name": "python3"
  },
  "language_info": {
   "codemirror_mode": {
    "name": "ipython",
    "version": 3
   },
   "file_extension": ".py",
   "mimetype": "text/x-python",
   "name": "python",
   "nbconvert_exporter": "python",
   "pygments_lexer": "ipython3",
   "version": "3.7.1"
  }
 },
 "nbformat": 4,
 "nbformat_minor": 2
}
